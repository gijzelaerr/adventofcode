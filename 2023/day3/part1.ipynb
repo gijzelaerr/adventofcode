{
 "cells": [
  {
   "cell_type": "code",
   "execution_count": 5,
   "id": "initial_id",
   "metadata": {
    "collapsed": true,
    "ExecuteTime": {
     "end_time": "2023-12-04T16:04:36.240986Z",
     "start_time": "2023-12-04T16:03:58.983282Z"
    }
   },
   "outputs": [],
   "source": [
    "import numpy as np\n",
    "from scipy.signal import convolve2d"
   ]
  },
  {
   "cell_type": "code",
   "execution_count": 21,
   "outputs": [
    {
     "data": {
      "text/plain": "array([['4', '6', '7', '.', '.', '1', '1', '4', '.', '.'],\n       ['.', '.', '.', '*', '.', '.', '.', '.', '.', '.'],\n       ['.', '.', '3', '5', '.', '.', '6', '3', '3', '.'],\n       ['.', '.', '.', '.', '.', '.', '#', '.', '.', '.'],\n       ['6', '1', '7', '*', '.', '.', '.', '.', '.', '.'],\n       ['.', '.', '.', '.', '.', '+', '.', '5', '8', '.'],\n       ['.', '.', '5', '9', '2', '.', '.', '.', '.', '.'],\n       ['.', '.', '.', '.', '.', '.', '7', '5', '5', '.'],\n       ['.', '.', '.', '$', '.', '*', '.', '.', '.', '.'],\n       ['.', '6', '6', '4', '.', '5', '9', '8', '.', '.']], dtype='<U1')"
     },
     "execution_count": 21,
     "metadata": {},
     "output_type": "execute_result"
    }
   ],
   "source": [
    "lines = open('input_test.txt').readlines()\n",
    "symbols = [*\"*#+\"]\n",
    "schematic = np.array([[*i.strip()] for i in lines])\n",
    "schematic"
   ],
   "metadata": {
    "collapsed": false,
    "ExecuteTime": {
     "end_time": "2023-12-04T16:11:09.618067Z",
     "start_time": "2023-12-04T16:11:09.613553Z"
    }
   },
   "id": "fe22fe8691e93f94"
  },
  {
   "cell_type": "code",
   "execution_count": 18,
   "outputs": [],
   "source": [
    "\n",
    "symbol_mask = np.isin(schematic, test_elements=symbols)"
   ],
   "metadata": {
    "collapsed": false,
    "ExecuteTime": {
     "start_time": "2023-12-04T16:10:55.071265Z"
    }
   },
   "id": "7652bc9588612d11"
  },
  {
   "cell_type": "code",
   "execution_count": 19,
   "outputs": [],
   "source": [
    "convolved = convolve2d(symbol_mask, 3 * [3 * [1]], mode=\"same\") >0"
   ],
   "metadata": {
    "collapsed": false,
    "ExecuteTime": {
     "end_time": "2023-12-04T16:10:55.312519Z",
     "start_time": "2023-12-04T16:10:55.310205Z"
    }
   },
   "id": "3057c9eed50d3af"
  },
  {
   "cell_type": "code",
   "execution_count": 23,
   "outputs": [],
   "source": [
    "schematic_mask = schematic != '.'"
   ],
   "metadata": {
    "collapsed": false,
    "ExecuteTime": {
     "end_time": "2023-12-04T16:11:44.177853Z",
     "start_time": "2023-12-04T16:11:44.175626Z"
    }
   },
   "id": "845c6dfce568fe78"
  },
  {
   "cell_type": "code",
   "execution_count": 30,
   "outputs": [
    {
     "data": {
      "text/plain": "masked_array(\n  data=[[--, --, '7', --, --, --, --, --, --, --],\n        [--, --, --, '*', --, --, --, --, --, --],\n        [--, --, '3', '5', --, --, '6', '3', --, --],\n        [--, --, --, --, --, --, '#', --, --, --],\n        [--, --, '7', '*', --, --, --, --, --, --],\n        [--, --, --, --, --, '+', --, --, --, --],\n        [--, --, --, --, '2', --, --, --, --, --],\n        [--, --, --, --, --, --, '7', --, --, --],\n        [--, --, --, --, --, '*', --, --, --, --],\n        [--, --, --, --, --, '5', '9', --, --, --]],\n  mask=[[ True,  True, False,  True,  True,  True,  True,  True,  True,\n          True],\n        [ True,  True,  True, False,  True,  True,  True,  True,  True,\n          True],\n        [ True,  True, False, False,  True,  True, False, False,  True,\n          True],\n        [ True,  True,  True,  True,  True,  True, False,  True,  True,\n          True],\n        [ True,  True, False, False,  True,  True,  True,  True,  True,\n          True],\n        [ True,  True,  True,  True,  True, False,  True,  True,  True,\n          True],\n        [ True,  True,  True,  True, False,  True,  True,  True,  True,\n          True],\n        [ True,  True,  True,  True,  True,  True, False,  True,  True,\n          True],\n        [ True,  True,  True,  True,  True, False,  True,  True,  True,\n          True],\n        [ True,  True,  True,  True,  True, False, False,  True,  True,\n          True]],\n  fill_value='N/A',\n  dtype='<U1')"
     },
     "execution_count": 30,
     "metadata": {},
     "output_type": "execute_result"
    }
   ],
   "source": [
    "np.ma.masked_array(schematic, mask=np. invert(schematic_mask & convolved))"
   ],
   "metadata": {
    "collapsed": false,
    "ExecuteTime": {
     "end_time": "2023-12-04T16:13:43.026104Z",
     "start_time": "2023-12-04T16:13:43.022677Z"
    }
   },
   "id": "426b80f6f79f01df"
  },
  {
   "cell_type": "code",
   "execution_count": null,
   "outputs": [],
   "source": [],
   "metadata": {
    "collapsed": false
   },
   "id": "81f6c6ada1d24829"
  }
 ],
 "metadata": {
  "kernelspec": {
   "display_name": "Python 3",
   "language": "python",
   "name": "python3"
  },
  "language_info": {
   "codemirror_mode": {
    "name": "ipython",
    "version": 2
   },
   "file_extension": ".py",
   "mimetype": "text/x-python",
   "name": "python",
   "nbconvert_exporter": "python",
   "pygments_lexer": "ipython2",
   "version": "2.7.6"
  }
 },
 "nbformat": 4,
 "nbformat_minor": 5
}
